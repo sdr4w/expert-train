{
 "cells": [
  {
   "cell_type": "markdown",
   "metadata": {},
   "source": [
    "**Student** &nbsp;: *Steven Rankine* <br>\n",
    "**Subject** &nbsp;: *Data Analytics Boot Camp, Fall 2018* <br>\n",
    "**Homework** : *Week 2 - In Class Exercises* <br>\n",
    "**Date** &nbsp;: *2018-10-13* <br>\n",
    "- - -"
   ]
  },
  {
   "cell_type": "code",
   "execution_count": 1,
   "metadata": {
    "collapsed": true
   },
   "outputs": [],
   "source": [
    "# Import Libraries\n",
    "import pandas as pd\n",
    "import numpy as np\n",
    "import glob"
   ]
  },
  {
   "cell_type": "markdown",
   "metadata": {},
   "source": [
    "# Algebra Grades\n",
    "\n",
    "Frank Mulligrew is the Algebra Coordinator for DC Public Schools. He is required to gather some statistics by the School Board. Using the following information about his class, calculate the following:\n",
    "\n",
    "1. Percentage of students with a passing grade\n",
    "2. Percentage of women with a passing grade\n",
    "3. Average hours of study for all students\n",
    "4. Average hours of study for students with a passing grade"
   ]
  },
  {
   "cell_type": "code",
   "execution_count": 2,
   "metadata": {},
   "outputs": [
    {
     "data": {
      "text/html": [
       "<div>\n",
       "<style>\n",
       "    .dataframe thead tr:only-child th {\n",
       "        text-align: right;\n",
       "    }\n",
       "\n",
       "    .dataframe thead th {\n",
       "        text-align: left;\n",
       "    }\n",
       "\n",
       "    .dataframe tbody tr th {\n",
       "        vertical-align: top;\n",
       "    }\n",
       "</style>\n",
       "<table border=\"1\" class=\"dataframe\">\n",
       "  <thead>\n",
       "    <tr style=\"text-align: right;\">\n",
       "      <th></th>\n",
       "      <th>Fname</th>\n",
       "      <th>Lname</th>\n",
       "      <th>Gender</th>\n",
       "      <th>Grade</th>\n",
       "      <th>Hours of Study</th>\n",
       "    </tr>\n",
       "  </thead>\n",
       "  <tbody>\n",
       "    <tr>\n",
       "      <th>0</th>\n",
       "      <td>Mary</td>\n",
       "      <td>Ettienne</td>\n",
       "      <td>F</td>\n",
       "      <td>B</td>\n",
       "      <td>16</td>\n",
       "    </tr>\n",
       "    <tr>\n",
       "      <th>1</th>\n",
       "      <td>Charles</td>\n",
       "      <td>Looner</td>\n",
       "      <td>M</td>\n",
       "      <td>F</td>\n",
       "      <td>8</td>\n",
       "    </tr>\n",
       "    <tr>\n",
       "      <th>2</th>\n",
       "      <td>Betty</td>\n",
       "      <td>Franklin</td>\n",
       "      <td>F</td>\n",
       "      <td>A</td>\n",
       "      <td>24</td>\n",
       "    </tr>\n",
       "    <tr>\n",
       "      <th>3</th>\n",
       "      <td>Roger</td>\n",
       "      <td>Withers</td>\n",
       "      <td>M</td>\n",
       "      <td>C</td>\n",
       "      <td>5</td>\n",
       "    </tr>\n",
       "    <tr>\n",
       "      <th>4</th>\n",
       "      <td>John</td>\n",
       "      <td>Mulgrew</td>\n",
       "      <td>M</td>\n",
       "      <td>A</td>\n",
       "      <td>5</td>\n",
       "    </tr>\n",
       "  </tbody>\n",
       "</table>\n",
       "</div>"
      ],
      "text/plain": [
       "     Fname     Lname Gender Grade  Hours of Study\n",
       "0     Mary  Ettienne      F     B              16\n",
       "1  Charles    Looner      M     F               8\n",
       "2    Betty  Franklin      F     A              24\n",
       "3    Roger   Withers      M     C               5\n",
       "4     John   Mulgrew      M     A               5"
      ]
     },
     "execution_count": 2,
     "metadata": {},
     "output_type": "execute_result"
    }
   ],
   "source": [
    "# Bring dataset into the python environment\n",
    "df = pd.read_csv(\"../datasets/algebradata.csv\")\n",
    "df.head()"
   ]
  },
  {
   "cell_type": "markdown",
   "metadata": {},
   "source": [
    "### *Solution:*\n",
    "Based on the assumption that grades of A, B, and C are considered passing. Any other letter grade is considered failing."
   ]
  },
  {
   "cell_type": "code",
   "execution_count": 3,
   "metadata": {},
   "outputs": [
    {
     "name": "stdout",
     "output_type": "stream",
     "text": [
      "\n",
      "1. Percentage of students with a passing grade:               69.17%\n",
      "2. Percentage of women with a passing grade:                  38.14%\n",
      "3. Average hours of study for all students:                   15.115 hrs\n",
      "4. Average hours of study for students with a passing grade:  16.298 hrs\n"
     ]
    }
   ],
   "source": [
    "# Calculate percentage of student passing\n",
    "test1 = (df['Grade']=='A') | (df['Grade']=='B') | (df['Grade']=='C')\n",
    "pct_pass = df.loc[test1].count().Grade / df.count().Grade\n",
    "print('\\n%d. Percentage of students with a passing grade:              %6.2f%%'% (1, 100*pct_pass))\n",
    "\n",
    "# Calculate percentage of women passing\n",
    "test2 = test1 & (df['Gender']=='F')\n",
    "pct_pass_f = df.loc[test2].count().Grade / df.count().Grade\n",
    "print('%d. Percentage of women with a passing grade:                 %6.2f%%'  % (2, 100*pct_pass_f))\n",
    "\n",
    "# Calculate Average study hours of all students\n",
    "avg_hours = df['Hours of Study'].mean()\n",
    "print('%d. Average hours of study for all students:                  %7.3f hrs'% (3, avg_hours))\n",
    "\n",
    "# Calculate Average study hours of passing students\n",
    "avg_hours_pass = df.loc[test1].mean()\n",
    "print('%d. Average hours of study for students with a passing grade: %7.3f hrs'% (4, avg_hours_pass))"
   ]
  },
  {
   "cell_type": "markdown",
   "metadata": {},
   "source": [
    "# Axis Auto Sales\n",
    "\n",
    "Carlos Hugens is the Sales Manager for Axis Auto Sales a low cost regional chain of Used Car Lots.\n",
    "Carlos is getting ready for his annual sales meeting and he is looking for the best way to improve his\n",
    "sales group's performance.\n",
    "His data includes the gender, years of experience, sales training and hours worked per week. It also\n",
    "includes the average cars sold per month by each salesperson.\n",
    "Find out the following:\n",
    "\n",
    "1. Average cars sold per month\n",
    "2. Max cars sold per month\n",
    "3. Min cars sold per month\n",
    "4. Average cars sold per month by gender\n",
    "5. Average hours worked by people selling > 3 cars per month\n",
    "6. Average years of experience\n",
    "7. Average years of experience for people selling > 3 cars per month\n",
    "8. Average cars sold per month by whether or not they have had sales training\n",
    "9. What do you think is the best indicator of whether someone is a good salesperson?"
   ]
  },
  {
   "cell_type": "markdown",
   "metadata": {},
   "source": [
    "- - -\n",
    "### *Solution:*"
   ]
  },
  {
   "cell_type": "code",
   "execution_count": 4,
   "metadata": {},
   "outputs": [
    {
     "data": {
      "text/html": [
       "<div>\n",
       "<style>\n",
       "    .dataframe thead tr:only-child th {\n",
       "        text-align: right;\n",
       "    }\n",
       "\n",
       "    .dataframe thead th {\n",
       "        text-align: left;\n",
       "    }\n",
       "\n",
       "    .dataframe tbody tr th {\n",
       "        vertical-align: top;\n",
       "    }\n",
       "</style>\n",
       "<table border=\"1\" class=\"dataframe\">\n",
       "  <thead>\n",
       "    <tr style=\"text-align: right;\">\n",
       "      <th></th>\n",
       "      <th>Fname</th>\n",
       "      <th>Lname</th>\n",
       "      <th>Gender</th>\n",
       "      <th>Hours Worked</th>\n",
       "      <th>SalesTraining</th>\n",
       "      <th>Years Experience</th>\n",
       "      <th>Cars Sold</th>\n",
       "    </tr>\n",
       "  </thead>\n",
       "  <tbody>\n",
       "    <tr>\n",
       "      <th>0</th>\n",
       "      <td>Jada</td>\n",
       "      <td>Walters</td>\n",
       "      <td>F</td>\n",
       "      <td>39</td>\n",
       "      <td>N</td>\n",
       "      <td>3</td>\n",
       "      <td>2</td>\n",
       "    </tr>\n",
       "    <tr>\n",
       "      <th>1</th>\n",
       "      <td>Nicole</td>\n",
       "      <td>Henderson</td>\n",
       "      <td>F</td>\n",
       "      <td>46</td>\n",
       "      <td>N</td>\n",
       "      <td>3</td>\n",
       "      <td>6</td>\n",
       "    </tr>\n",
       "    <tr>\n",
       "      <th>2</th>\n",
       "      <td>Tanya</td>\n",
       "      <td>Moore</td>\n",
       "      <td>F</td>\n",
       "      <td>42</td>\n",
       "      <td>Y</td>\n",
       "      <td>4</td>\n",
       "      <td>6</td>\n",
       "    </tr>\n",
       "    <tr>\n",
       "      <th>3</th>\n",
       "      <td>Ronelle</td>\n",
       "      <td>Jackson</td>\n",
       "      <td>F</td>\n",
       "      <td>38</td>\n",
       "      <td>Y</td>\n",
       "      <td>5</td>\n",
       "      <td>3</td>\n",
       "    </tr>\n",
       "    <tr>\n",
       "      <th>4</th>\n",
       "      <td>Brad</td>\n",
       "      <td>Sears</td>\n",
       "      <td>M</td>\n",
       "      <td>33</td>\n",
       "      <td>N</td>\n",
       "      <td>4</td>\n",
       "      <td>2</td>\n",
       "    </tr>\n",
       "  </tbody>\n",
       "</table>\n",
       "</div>"
      ],
      "text/plain": [
       "     Fname      Lname Gender  Hours Worked SalesTraining  Years Experience  \\\n",
       "0     Jada   Walters       F            39             N                 3   \n",
       "1   Nicole  Henderson      F            46             N                 3   \n",
       "2    Tanya      Moore      F            42             Y                 4   \n",
       "3  Ronelle    Jackson      F            38             Y                 5   \n",
       "4     Brad      Sears      M            33             N                 4   \n",
       "\n",
       "   Cars Sold  \n",
       "0          2  \n",
       "1          6  \n",
       "2          6  \n",
       "3          3  \n",
       "4          2  "
      ]
     },
     "execution_count": 4,
     "metadata": {},
     "output_type": "execute_result"
    }
   ],
   "source": [
    "# Bring dataset into the python environment\n",
    "df = pd.read_csv(\"../datasets/axisdata.csv\") # overwite previuos df\n",
    "df.head()                                    # Show first 5 rows"
   ]
  },
  {
   "cell_type": "markdown",
   "metadata": {},
   "source": [
    "The first three questions are about descriptive statistics of the response variable/feature (*Cars Sold*) for the entire population."
   ]
  },
  {
   "cell_type": "code",
   "execution_count": 5,
   "metadata": {},
   "outputs": [
    {
     "name": "stdout",
     "output_type": "stream",
     "text": [
      "1. Average cars sold per month:  3.923\n",
      "2. Max cars sold per month:      7\n",
      "3. Min cars sold per month:      1\n"
     ]
    }
   ],
   "source": [
    "# Calculate statitics of average cars sold per month \n",
    "allMin = df['Cars Sold'].min()  # Minimum \n",
    "allMax = df['Cars Sold'].max()  # Maximum \n",
    "allAvg = df['Cars Sold'].mean() # Mean \n",
    "allStd = df['Cars Sold'].std()  # Std Dev \n",
    "allVar = df['Cars Sold'].var()  # Variance \n",
    "\n",
    "# Display Results\n",
    "print('%d. Average cars sold per month:  %.3f' % (1, df['Cars Sold'].mean()))\n",
    "print('%d. Max cars sold per month:      %d' % (2, df['Cars Sold'].max()))\n",
    "print('%d. Min cars sold per month:      %d' % (3, df['Cars Sold'].min()))"
   ]
  },
  {
   "cell_type": "markdown",
   "metadata": {},
   "source": [
    "The next question is about descriptive statistics of the response variable/feature (*Cars Sold*) for subsets of the population: male-only & female-only."
   ]
  },
  {
   "cell_type": "code",
   "execution_count": 6,
   "metadata": {},
   "outputs": [
    {
     "name": "stdout",
     "output_type": "stream",
     "text": [
      "4. Average cars sold per month by gender:  3.761 (Female), 4.078 (Male)\n"
     ]
    }
   ],
   "source": [
    "# Calculate averages based on gender\n",
    "mAvg = df.loc[df['Gender']=='F','Cars Sold'].mean()\n",
    "mVar = df.loc[df['Gender']=='F','Cars Sold'].var()\n",
    "fAvg = df.loc[df['Gender']=='M','Cars Sold'].mean()\n",
    "fVar = df.loc[df['Gender']=='M','Cars Sold'].var()\n",
    "\n",
    "# Display Results\n",
    "print('%d. Average cars sold per month by gender:  %.3f (Female), %.3f (Male)' % (4,mAvg,fAvg))"
   ]
  },
  {
   "cell_type": "markdown",
   "metadata": {},
   "source": [
    "The next four questions "
   ]
  },
  {
   "cell_type": "code",
   "execution_count": 8,
   "metadata": {},
   "outputs": [
    {
     "name": "stdout",
     "output_type": "stream",
     "text": [
      "5. Average hours worked by people selling > 3 cars per month:  34.74 hrs\n",
      "6. Average years of experience:                                3.026 yrs\n",
      "7. Average years of experience for people selling > 3 cars:    3.049 yrs\n",
      "8. Average cars sold per month based on having sales training: 4.169 (Yes), 3.574 (No)\n"
     ]
    }
   ],
   "source": [
    "# Additional Calculations\n",
    "hwAvg    = df.loc[df['Cars Sold']>3,'Hours Worked'].mean()\n",
    "yeAvg    = df['Years Experience'].mean()\n",
    "yeVar    = df['Years Experience'].var()\n",
    "yeAvgCS3 = df.loc[df['Cars Sold']>3,'Years Experience'].mean()   \n",
    "tYes     = df.loc[df['SalesTraining']=='Y', 'Cars Sold'].mean()\n",
    "tYesVar  = df.loc[df['SalesTraining']=='Y', 'Cars Sold'].var()\n",
    "tNo      = df.loc[df['SalesTraining']=='N', 'Cars Sold'].mean()\n",
    "tNoVar   = df.loc[df['SalesTraining']=='N', 'Cars Sold'].var()\n",
    "\n",
    "# Display Results\n",
    "print('%d. Average hours worked by people selling > 3 cars per month:  %.2f hrs'% (5, hwAvg))\n",
    "print('%d. Average years of experience:                                %.3f yrs'% (6, yeAvg))\n",
    "print('%d. Average years of experience for people selling > 3 cars:    %.3f yrs'% (7,yeAvgCS3))\n",
    "print('%d. Average cars sold per month based on having sales training: %.3f (Yes), %.3f (No)'% (8,tYes,tNo))"
   ]
  },
  {
   "cell_type": "markdown",
   "metadata": {},
   "source": [
    "Choosing the feature that is te best indicator of sales performance would require the a statistical test like ANOVA which would measure the contribution of each feature (Gender, Hours Worked, SalesTraining, Years Experience) to the overall variance of Cars Sold among the population of sales persons."
   ]
  },
  {
   "cell_type": "code",
   "execution_count": 16,
   "metadata": {},
   "outputs": [],
   "source": [
    "m_tYes     = df.loc[(df['SalesTraining']=='Y') & (df['Gender']=='M'), 'Cars Sold'].mean()\n",
    "m_tYesVar  = df.loc[(df['SalesTraining']=='Y') & (df['Gender']=='M'), 'Cars Sold'].var()\n",
    "m_tNo      = df.loc[(df['SalesTraining']=='N') & (df['Gender']=='M'), 'Cars Sold'].mean()\n",
    "m_tNoVar   = df.loc[(df['SalesTraining']=='N') & (df['Gender']=='M'), 'Cars Sold'].var()\n",
    "f_tYes     = df.loc[(df['SalesTraining']=='Y') & (df['Gender']=='F'), 'Cars Sold'].mean()\n",
    "f_tYesVar  = df.loc[(df['SalesTraining']=='Y') & (df['Gender']=='F'), 'Cars Sold'].var()\n",
    "f_tNo      = df.loc[(df['SalesTraining']=='N') & (df['Gender']=='F'), 'Cars Sold'].mean()\n",
    "f_tNoVar   = df.loc[(df['SalesTraining']=='N') & (df['Gender']=='F'), 'Cars Sold'].var()\n",
    "yeAvgAbove = df.loc[df['Years Experience']>= yeAvg,'Cars Sold'].mean()   \n",
    "yeAvgBelow = df.loc[df['Years Experience']<  yeAvg,'Cars Sold'].mean()   \n",
    "yeVarAbove = df.loc[df['Years Experience']>= yeAvg,'Cars Sold'].var()   \n",
    "yeVarBelow = df.loc[df['Years Experience']<  yeAvg,'Cars Sold'].var() "
   ]
  },
  {
   "cell_type": "markdown",
   "metadata": {},
   "source": [
    "### **Further examination**\n",
    "There was also a significant delta between male and female average monthly sales figures. If gender were a factor in monthly sales then males with sales training would have even higher average monthly sales.\n",
    "\n",
    "Factors          |   Avg |   Var |  Delta\n",
    ":---             |  ---: |  ---: |   ---:\n",
    "All              | 3.923 | 2.332 |  0.000\n",
    "Male             | 4.078 | 2.199 | +0.155\n",
    "Female           | 3.761 | 2.414 | -0.162\n",
    "Trained          | 4.169 | 2.192 | +0.246\n",
    "Untrained        | 3.574 | 2.328 | -0.349\n",
    "Untrained Female | 3.514 | 2.166 | -0.409\n",
    "Untrained Male   | 3.637 | 2.502 | -0.286\n",
    "Trained Female   | 3.949 | 2.150 | +0.026\n",
    "Trained Male     | 4.366 | 2.155 | +0.443\n",
    "Above Avg Exp    | 4.001 | 2.369 | +0.082\n",
    "Below Avg Exp    | 3.869 | 2.304 | -0.054"
   ]
  },
  {
   "cell_type": "code",
   "execution_count": 17,
   "metadata": {},
   "outputs": [
    {
     "name": "stdout",
     "output_type": "stream",
     "text": [
      "9. What is the best indicator of someone being a good salesperson:  Sales Training\n"
     ]
    }
   ],
   "source": [
    "\n",
    "print('9. What is the best indicator of someone being a good salesperson:  Sales Training' )\n"
   ]
  }
 ],
 "metadata": {
  "celltoolbar": "Raw Cell Format",
  "kernelspec": {
   "display_name": "Python 3",
   "language": "python",
   "name": "python3"
  },
  "language_info": {
   "codemirror_mode": {
    "name": "ipython",
    "version": 3
   },
   "file_extension": ".py",
   "mimetype": "text/x-python",
   "name": "python",
   "nbconvert_exporter": "python",
   "pygments_lexer": "ipython3",
   "version": "3.6.3"
  }
 },
 "nbformat": 4,
 "nbformat_minor": 2
}
