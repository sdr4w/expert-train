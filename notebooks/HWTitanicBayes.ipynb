{
  "metadata": {
    "kernelspec": {
      "display_name": "Python 3.6",
      "name": "python36",
      "language": "python"
    },
    "language_info": {
      "mimetype": "text/x-python",
      "nbconvert_exporter": "python",
      "name": "python",
      "pygments_lexer": "ipython3",
      "version": "3.6.6",
      "file_extension": ".py",
      "codemirror_mode": {
        "version": 3,
        "name": "ipython"
      }
    }
  },
  "nbformat_minor": 2,
  "nbformat": 4,
  "cells": [
    {
      "cell_type": "markdown",
      "source": "# Titanic Bayes Analysis\n### *2018-11-03* | *Steven Rankine* | *Data Analytics Boot Camp (Fall 2018)*\n- - -\n## Using the Titanic dataset and Bayes Theorem find out which of the following is more likely to survive:\n\n1. a boy in 2nd class\n2. a women in 3rd class \n3. a man in 1st class\n\nupload a link to your github repository\n- - -",
      "metadata": {}
    },
    {
      "cell_type": "code",
      "source": "# Import libraries\nimport os\nimport pandas as pd\nimport numpy  as np\nos.getcwd()",
      "metadata": {
        "trusted": true
      },
      "execution_count": 25,
      "outputs": [
        {
          "execution_count": 25,
          "output_type": "execute_result",
          "data": {
            "text/plain": "'/home/nbuser/library/notebooks'"
          },
          "metadata": {}
        }
      ]
    },
    {
      "cell_type": "code",
      "source": "# Import data into the python environment\ndf = pd.read_csv(\"../datasets/kaggle/titanic.csv\")\ndf.head()",
      "metadata": {
        "trusted": true
      },
      "execution_count": 26,
      "outputs": [
        {
          "execution_count": 26,
          "output_type": "execute_result",
          "data": {
            "text/html": "<div>\n<style scoped>\n    .dataframe tbody tr th:only-of-type {\n        vertical-align: middle;\n    }\n\n    .dataframe tbody tr th {\n        vertical-align: top;\n    }\n\n    .dataframe thead th {\n        text-align: right;\n    }\n</style>\n<table border=\"1\" class=\"dataframe\">\n  <thead>\n    <tr style=\"text-align: right;\">\n      <th></th>\n      <th>PassengerId</th>\n      <th>Survived</th>\n      <th>Pclass</th>\n      <th>Name</th>\n      <th>Sex</th>\n      <th>Age</th>\n      <th>SibSp</th>\n      <th>Parch</th>\n      <th>Ticket</th>\n      <th>Fare</th>\n      <th>Cabin</th>\n      <th>Embarked</th>\n    </tr>\n  </thead>\n  <tbody>\n    <tr>\n      <th>0</th>\n      <td>1</td>\n      <td>0</td>\n      <td>3</td>\n      <td>Braund, Mr. Owen Harris</td>\n      <td>male</td>\n      <td>22.0</td>\n      <td>1</td>\n      <td>0</td>\n      <td>A/5 21171</td>\n      <td>7.2500</td>\n      <td>NaN</td>\n      <td>S</td>\n    </tr>\n    <tr>\n      <th>1</th>\n      <td>2</td>\n      <td>1</td>\n      <td>1</td>\n      <td>Cumings, Mrs. John Bradley (Florence Briggs Th...</td>\n      <td>female</td>\n      <td>38.0</td>\n      <td>1</td>\n      <td>0</td>\n      <td>PC 17599</td>\n      <td>71.2833</td>\n      <td>C85</td>\n      <td>C</td>\n    </tr>\n    <tr>\n      <th>2</th>\n      <td>3</td>\n      <td>1</td>\n      <td>3</td>\n      <td>Heikkinen, Miss. Laina</td>\n      <td>female</td>\n      <td>26.0</td>\n      <td>0</td>\n      <td>0</td>\n      <td>STON/O2. 3101282</td>\n      <td>7.9250</td>\n      <td>NaN</td>\n      <td>S</td>\n    </tr>\n    <tr>\n      <th>3</th>\n      <td>4</td>\n      <td>1</td>\n      <td>1</td>\n      <td>Futrelle, Mrs. Jacques Heath (Lily May Peel)</td>\n      <td>female</td>\n      <td>35.0</td>\n      <td>1</td>\n      <td>0</td>\n      <td>113803</td>\n      <td>53.1000</td>\n      <td>C123</td>\n      <td>S</td>\n    </tr>\n    <tr>\n      <th>4</th>\n      <td>5</td>\n      <td>0</td>\n      <td>3</td>\n      <td>Allen, Mr. William Henry</td>\n      <td>male</td>\n      <td>35.0</td>\n      <td>0</td>\n      <td>0</td>\n      <td>373450</td>\n      <td>8.0500</td>\n      <td>NaN</td>\n      <td>S</td>\n    </tr>\n  </tbody>\n</table>\n</div>",
            "text/plain": "   PassengerId  Survived  Pclass  \\\n0            1         0       3   \n1            2         1       1   \n2            3         1       3   \n3            4         1       1   \n4            5         0       3   \n\n                                                Name     Sex   Age  SibSp  \\\n0                            Braund, Mr. Owen Harris    male  22.0      1   \n1  Cumings, Mrs. John Bradley (Florence Briggs Th...  female  38.0      1   \n2                             Heikkinen, Miss. Laina  female  26.0      0   \n3       Futrelle, Mrs. Jacques Heath (Lily May Peel)  female  35.0      1   \n4                           Allen, Mr. William Henry    male  35.0      0   \n\n   Parch            Ticket     Fare Cabin Embarked  \n0      0         A/5 21171   7.2500   NaN        S  \n1      0          PC 17599  71.2833   C85        C  \n2      0  STON/O2. 3101282   7.9250   NaN        S  \n3      0            113803  53.1000  C123        S  \n4      0            373450   8.0500   NaN        S  "
          },
          "metadata": {}
        }
      ]
    },
    {
      "cell_type": "markdown",
      "source": "- - -\n## Assumptions made\n- Children are less than or equal to 18 years\n- Men and women are over the age of 18 years\n- All features are independent \n- Data is normally distributed\n\nSetup conditional searches ",
      "metadata": {}
    },
    {
      "cell_type": "code",
      "source": "# Conditions\ncond_1  = (df['Sex'] == 'male')  & (df['Age'] <= 18) & (df['Pclass'] == 2) # 2nd class boys\ncond_1y = cond_1 & (df['Survived'] == 1)                                   # 2nd class boys surviving\ncond_1n = cond_1 & (df['Survived'] == 0)                                   # 2nd class boys not surviving\ncond_2  = (df['Sex'] == 'female')& (df['Age']  > 18) & (df['Pclass'] == 3) # 3rd class women  \ncond_2y = cond_2 & (df['Survived'] == 1)                                   # 3rd class women surviving\ncond_2n = cond_2 & (df['Survived'] == 0)                                   # 3rd class women not surviving\ncond_3  = (df['Sex'] == 'male')  & (df['Age']  > 18) & (df['Pclass'] == 1) # 1st class men\ncond_3y = cond_3 & (df['Survived'] == 1)                                   # 1st class men surviving\ncond_3n = cond_3 & (df['Survived'] == 0)                                   # 1st class men not surviving\ncond_4  = ~(cond_1 | cond_2 | cond_3)                                      # Everybody else\ncond_4y = cond_4 & (df['Survived'] == 1)                                   # Everybody else surviving\ncond_4n = cond_4 & (df['Survived'] == 0)                                   # Everybody else not surviving",
      "metadata": {
        "trusted": true
      },
      "execution_count": 27,
      "outputs": []
    },
    {
      "cell_type": "markdown",
      "source": "- - -\n## Convert Data Into Frequncies/Counts ",
      "metadata": {}
    },
    {
      "cell_type": "code",
      "source": "# Counts\nn_all = [len(df[cond_1]),  len(df[cond_2]),  len(df[cond_3]),  len(df[cond_4]) ] # Class total counts\nn_no  = [len(df[cond_1n]), len(df[cond_2n]), len(df[cond_3n]), len(df[cond_4n])] # Class non-survival count\nn_yes = [len(df[cond_1y]), len(df[cond_2y]), len(df[cond_3y]), len(df[cond_4y])] # Class survival count",
      "metadata": {
        "trusted": true
      },
      "execution_count": 28,
      "outputs": []
    },
    {
      "cell_type": "markdown",
      "source": "- - -\n## Calculate Class/Predictor Probabilities",
      "metadata": {}
    },
    {
      "cell_type": "code",
      "source": "# Predictor Prior Probabilities' \nPA  = 100*sum(n_yes)/sum(n_all)\n# Class Prior probability\nPC  = [100.0*n_all[0]/sum(n_all),  # Prob of 2nd class boy in population\n       100.0*n_all[1]/sum(n_all),  # Prob of 3rd class women in population\n       100.0*n_all[2]/sum(n_all),  # Prob of 1st class man in population\n       100.0*n_all[3]/sum(n_all)]  # Prob of the rest in population\n# Class likelihoods which is the probability of predictor given class\nPCA = [100.0*n_yes[0]/sum(n_yes),  # Prob of 2nd class boy out of survivors\n       100.0*n_yes[1]/sum(n_yes),  # Prob of 3rd class women out of survivors\n       100.0*n_yes[2]/sum(n_yes),  # Prob of 1st class man out of survivors\n       100.0*n_yes[3]/sum(n_yes)]  # Prob of being in the rest out of survivors\n# Naive-Bayes Theorem\nPAC = [PCA[0]*PA/PC[0],            # Prob of a 2nd class boy surviving\n       PCA[1]*PA/PC[1],            # Prob of a 3rd class women surviving\n       PCA[2]*PA/PC[2],            # Prob of a 1st class men surviving\n       PCA[3]*PA/PC[3]]            # Prob of rest of population surviving",
      "metadata": {
        "trusted": true
      },
      "execution_count": 29,
      "outputs": []
    },
    {
      "cell_type": "markdown",
      "source": "- - -\n## Display Results",
      "metadata": {}
    },
    {
      "cell_type": "code",
      "source": "#\nprint('|-----------------------------------------------------------|')\nprint('|                    |  Survival |        |        |        |')\nprint('| Class              | Frequency |  P(C)  | P(C|A) | P(A|C) |')\nprint('|                    |  No | Yes |        |        |        |')\nprint('|------------------- + --------- + ------ + ------ + -------|')\nprint('| Boy in 2nd Class   | %3d | %3d | %5.1f%% | %5.1f%% | %5.1f%% |' % (n_no[0], n_yes[0], PC[0], PCA[0], PAC[0]) )\nprint('| Women in 3rd Class | %3d | %3d | %5.1f%% | %5.1f%% | %5.1f%% |' % (n_no[1], n_yes[1], PC[1], PCA[1], PAC[1]) )\nprint('| Men in 1st Class   | %3d | %3d | %5.1f%% | %5.1f%% | %5.1f%% |' % (n_no[2], n_yes[2], PC[2], PCA[2], PAC[2]) )\nprint('| The rest           | %3d | %3d | %5.1f%% | %5.1f%% | %5.1f%% |' % (n_no[3], n_yes[3], PC[3], PCA[3], PAC[3]) )\nprint('|------------------- + --------- + -------------------------|')\nprint('| Total              | %3d | %3d |'      % (sum(n_no), sum(n_yes)) )\nprint('|------------------- + --------- |')\nprint('                     | %.f%% | %.f%% |'  % (100*sum(n_no)/sum(n_all), PA) )\nprint('                     |~P(A)| P(A)|')\nprint('                     |-----------| \\n')\n",
      "metadata": {
        "trusted": true
      },
      "execution_count": 30,
      "outputs": [
        {
          "text": "|-----------------------------------------------------------|\n|                    |  Survival |        |        |        |\n| Class              | Frequency |  P(C)  | P(C|A) | P(A|C) |\n|                    |  No | Yes |        |        |        |\n|------------------- + --------- + ------ + ------ + -------|\n| Boy in 2nd Class   |   6 |   9 |   1.7% |   2.6% |  60.0% |\n| Women in 3rd Class |  34 |  25 |   6.6% |   7.3% |  42.4% |\n| Men in 1st Class   |  60 |  36 |  10.8% |  10.5% |  37.5% |\n| The rest           | 449 | 272 |  80.9% |  79.5% |  37.7% |\n|------------------- + --------- + -------------------------|\n| Total              | 549 | 342 |\n|------------------- + --------- |\n                     | 62% | 38% |\n                     |~P(A)| P(A)|\n                     |-----------| \n\n",
          "name": "stdout",
          "output_type": "stream"
        }
      ]
    }
  ]
}