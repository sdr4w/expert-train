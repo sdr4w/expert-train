{
  "metadata": {
    "kernelspec": {
      "name": "python36",
      "display_name": "Python 3.6",
      "language": "python"
    },
    "language_info": {
      "mimetype": "text/x-python",
      "nbconvert_exporter": "python",
      "name": "python",
      "pygments_lexer": "ipython3",
      "version": "3.6.6",
      "file_extension": ".py",
      "codemirror_mode": {
        "version": 3,
        "name": "ipython"
      }
    }
  },
  "nbformat_minor": 2,
  "nbformat": 4,
  "cells": [
    {
      "cell_type": "markdown",
      "source": "# **EXPEDITIONER**\n### *2018-10-20* | *Steven Rankine* | *Data Analytics Boot Camp (Fall 2018)*\n- - -\n\nDownload the file exped.xls. This file is a sample of 1000 sales transactions for the Expeditioner. For each sale, there is a row recording when it was sold, where it was sold, what was sold, how it was sold, the quantity sold, and the sales revenue.",
      "metadata": {}
    },
    {
      "cell_type": "code",
      "source": "# Import libraries\nimport os\nimport pandas as pd\nimport numpy  as np\nos.getcwd()",
      "metadata": {
        "trusted": true
      },
      "execution_count": 5,
      "outputs": [
        {
          "execution_count": 5,
          "output_type": "execute_result",
          "data": {
            "text/plain": "'/home/nbuser/library/notebooks'"
          },
          "metadata": {}
        }
      ]
    },
    {
      "cell_type": "code",
      "source": "# Import data into the python environment\nLocation = \"../datasets/exped2.xls\"\ndf = pd.read_excel(Location)\ndf.head()",
      "metadata": {
        "trusted": true
      },
      "execution_count": 6,
      "outputs": [
        {
          "execution_count": 6,
          "output_type": "execute_result",
          "data": {
            "text/html": "<div>\n<style scoped>\n    .dataframe tbody tr th:only-of-type {\n        vertical-align: middle;\n    }\n\n    .dataframe tbody tr th {\n        vertical-align: top;\n    }\n\n    .dataframe thead th {\n        text-align: right;\n    }\n</style>\n<table border=\"1\" class=\"dataframe\">\n  <thead>\n    <tr style=\"text-align: right;\">\n      <th></th>\n      <th>Transid</th>\n      <th>WHEN</th>\n      <th>OtherWhen</th>\n      <th>WHERE</th>\n      <th>WHAT</th>\n      <th>HOW</th>\n      <th>QUANTITY</th>\n      <th>REVENUE</th>\n    </tr>\n  </thead>\n  <tbody>\n    <tr>\n      <th>0</th>\n      <td>1</td>\n      <td>2002-11-30</td>\n      <td>11/30/2002</td>\n      <td>Paris</td>\n      <td>Exploring in 10 Easy Lessons</td>\n      <td>Store</td>\n      <td>4</td>\n      <td>80</td>\n    </tr>\n    <tr>\n      <th>1</th>\n      <td>2</td>\n      <td>2002-10-20</td>\n      <td>10/20/2002</td>\n      <td>London</td>\n      <td>Camel saddle</td>\n      <td>Catalog</td>\n      <td>3</td>\n      <td>1794</td>\n    </tr>\n    <tr>\n      <th>2</th>\n      <td>3</td>\n      <td>2002-11-07</td>\n      <td>11/07/2002</td>\n      <td>Paris</td>\n      <td>Compass</td>\n      <td>Store</td>\n      <td>2</td>\n      <td>16</td>\n    </tr>\n    <tr>\n      <th>3</th>\n      <td>4</td>\n      <td>2002-07-28</td>\n      <td>07/28/2002</td>\n      <td>London</td>\n      <td>Geo positioning system</td>\n      <td>Store</td>\n      <td>3</td>\n      <td>885</td>\n    </tr>\n    <tr>\n      <th>4</th>\n      <td>5</td>\n      <td>2002-08-05</td>\n      <td>08/05/2002</td>\n      <td>Paris</td>\n      <td>Hammock</td>\n      <td>Store</td>\n      <td>3</td>\n      <td>165</td>\n    </tr>\n  </tbody>\n</table>\n</div>",
            "text/plain": "   Transid       WHEN   OtherWhen   WHERE                          WHAT  \\\n0        1 2002-11-30  11/30/2002   Paris  Exploring in 10 Easy Lessons   \n1        2 2002-10-20  10/20/2002  London                  Camel saddle   \n2        3 2002-11-07  11/07/2002   Paris                       Compass   \n3        4 2002-07-28  07/28/2002  London        Geo positioning system   \n4        5 2002-08-05  08/05/2002   Paris                       Hammock   \n\n       HOW  QUANTITY  REVENUE  \n0    Store         4       80  \n1  Catalog         3     1794  \n2    Store         2       16  \n3    Store         3      885  \n4    Store         3      165  "
          },
          "metadata": {}
        }
      ]
    },
    {
      "cell_type": "code",
      "source": "# Introduce 3 new data columns derived from the WHEN data column\ndf['Month']   = df['WHEN'].dt.month\ndf['Year']    = df['WHEN'].dt.year\ndf['Quarter'] = df['WHEN'].dt.quarter\ndf.head(2)",
      "metadata": {
        "trusted": true
      },
      "execution_count": 7,
      "outputs": [
        {
          "execution_count": 7,
          "output_type": "execute_result",
          "data": {
            "text/html": "<div>\n<style scoped>\n    .dataframe tbody tr th:only-of-type {\n        vertical-align: middle;\n    }\n\n    .dataframe tbody tr th {\n        vertical-align: top;\n    }\n\n    .dataframe thead th {\n        text-align: right;\n    }\n</style>\n<table border=\"1\" class=\"dataframe\">\n  <thead>\n    <tr style=\"text-align: right;\">\n      <th></th>\n      <th>Transid</th>\n      <th>WHEN</th>\n      <th>OtherWhen</th>\n      <th>WHERE</th>\n      <th>WHAT</th>\n      <th>HOW</th>\n      <th>QUANTITY</th>\n      <th>REVENUE</th>\n      <th>Month</th>\n      <th>Year</th>\n      <th>Quarter</th>\n    </tr>\n  </thead>\n  <tbody>\n    <tr>\n      <th>0</th>\n      <td>1</td>\n      <td>2002-11-30</td>\n      <td>11/30/2002</td>\n      <td>Paris</td>\n      <td>Exploring in 10 Easy Lessons</td>\n      <td>Store</td>\n      <td>4</td>\n      <td>80</td>\n      <td>11</td>\n      <td>2002</td>\n      <td>4</td>\n    </tr>\n    <tr>\n      <th>1</th>\n      <td>2</td>\n      <td>2002-10-20</td>\n      <td>10/20/2002</td>\n      <td>London</td>\n      <td>Camel saddle</td>\n      <td>Catalog</td>\n      <td>3</td>\n      <td>1794</td>\n      <td>10</td>\n      <td>2002</td>\n      <td>4</td>\n    </tr>\n  </tbody>\n</table>\n</div>",
            "text/plain": "   Transid       WHEN   OtherWhen   WHERE                          WHAT  \\\n0        1 2002-11-30  11/30/2002   Paris  Exploring in 10 Easy Lessons   \n1        2 2002-10-20  10/20/2002  London                  Camel saddle   \n\n       HOW  QUANTITY  REVENUE  Month  Year  Quarter  \n0    Store         4       80     11  2002        4  \n1  Catalog         3     1794     10  2002        4  "
          },
          "metadata": {}
        }
      ]
    },
    {
      "cell_type": "markdown",
      "source": "- - -\n## *Solution*:",
      "metadata": {}
    },
    {
      "cell_type": "code",
      "source": "# a) What was the value of catalog sales for London in the first quarter? \ncrit = (df['WHERE'] == 'London') & (df['Quarter'] == 1) & (df['HOW'] == 'Catalog')\ntbl  = pd.pivot_table(df[crit], index=[\"WHAT\"], values=\"REVENUE\", margins=True, aggfunc=np.sum)\nansA = tbl.loc[\"All\",\"REVENUE\"]",
      "metadata": {
        "trusted": true
      },
      "execution_count": 8,
      "outputs": []
    },
    {
      "cell_type": "code",
      "source": "# b) What percent of the total annual sales were Tokyo Web sales in the fourth quarter? \ncrit = (df['Quarter'] == 4)\ntbl  = pd.pivot_table(df[crit], index=[\"WHERE\"], values=\"REVENUE\", margins=True, aggfunc=np.sum)\nansB = 100 * tbl.loc[\"Tokyo\",\"REVENUE\"] / tbl.loc[\"All\",\"REVENUE\"]",
      "metadata": {
        "trusted": true
      },
      "execution_count": 9,
      "outputs": []
    },
    {
      "cell_type": "code",
      "source": "# c) What percent of Sydney's annual sales was its Catalog sales? \ncrit = (df['HOW'] == 'Catalog')\ntbl  = pd.pivot_table(df[crit], index=[\"WHERE\"], values=\"REVENUE\", margins=True, aggfunc=np.sum)\nansC = 100 * tbl.loc[\"Sydney\",\"REVENUE\"] / tbl.loc[\"All\",\"REVENUE\"]",
      "metadata": {
        "trusted": true
      },
      "execution_count": 10,
      "outputs": []
    },
    {
      "cell_type": "code",
      "source": "# d) What was the value of catalog sales for London in January ? \ncrit = (df['HOW'] == 'Catalog') & (df['WHERE'] == 'London') & (df['Month'] == 1)\ntbl  = pd.pivot_table(df[crit], index=[\"Transid\"], values=[\"REVENUE\"], margins=True, aggfunc=np.sum)\nansD = tbl.loc[\"All\",\"REVENUE\"]\n\n# Details of the transactions\nansD_Details = df.loc[crit,[\"WHEN\",\"WHAT\",\"WHERE\",\"QUANTITY\",\"REVENUE\"]]",
      "metadata": {
        "trusted": true
      },
      "execution_count": 12,
      "outputs": []
    },
    {
      "cell_type": "code",
      "source": "# e) What was the value of Camel saddle sales for Paris in 2002 by quarter?\ncrit = (df['WHAT'] == 'Camel saddle') & (df['WHERE'] == 'Paris') & (df['Year'] == 2002)\ntbl  = pd.pivot_table(df[crit], index=[\"Quarter\"], values=[\"REVENUE\"], margins=True, aggfunc=np.sum)\nansE = tbl",
      "metadata": {
        "trusted": true
      },
      "execution_count": 13,
      "outputs": []
    },
    {
      "cell_type": "code",
      "source": "# f) How many Elephant polo sticks were sold in New York in each month of 2002?\ncrit = (df['WHERE'] == 'New York') & (df['WHAT'] == 'Elephant polo stick')\ntbl  = pd.pivot_table(df[crit], index=\"Month\", values=\"QUANTITY\", margins=True, aggfunc=np.sum)\n\n# loop through data frame and fill in missing values\nfor i in range(1,12):\n    test = (i in tbl.index)\n    if not test: \n        tbl.loc[i,'QUANTITY'] = int(0)\n\n# Change numerical months to 3-lettr abbreviation\nansF = tbl.reindex([1,2,3,4,5,6,7,8,9,10,11,12,'All'])\nansF.index = ['Jan','Feb','Mar','Apr','May','Jun','Jul','Aug','Sep','Oct','Nov','Dec','All']",
      "metadata": {
        "trusted": true
      },
      "execution_count": 14,
      "outputs": []
    },
    {
      "cell_type": "code",
      "source": "# Display results to the console\nprint(\"a) What was the value of catalog sales for London in the first quarter?    $%d\"     % (ansA))\nprint(\"b) What pct of the total annual sales were Tokyo Web sales in the 4th Qtr? %3.2f%%\" % (ansB))\nprint(\"c) What pct of Sydney's annual sales was its Catalog sales?                %3.2f%%\" % (ansC))\nprint(\"d) What was the value of catalog sales for London in January?              $%d\"     % (ansD))\nprint(\"   Give details of the transactions:\\n\\n\", ansD_Details, \"\\n\")\nprint(\"e) What was the value of Camel saddle sales for Paris in 2002 by quarter?\\n\\n\", ansE, \"\\n\")\nprint(\"f) How many Elephant polo sticks were sold in NY in each month of 2002?  \\n\\n\", ansF, \"\\n\")",
      "metadata": {
        "trusted": true
      },
      "execution_count": 15,
      "outputs": [
        {
          "text": "a) What was the value of catalog sales for London in the first quarter?    $7810\nb) What pct of the total annual sales were Tokyo Web sales in the 4th Qtr? 13.11%\nc) What pct of Sydney's annual sales was its Catalog sales?                5.03%\nd) What was the value of catalog sales for London in January?              $411\n   Give details of the transactions:\n\n           WHEN                  WHAT   WHERE  QUANTITY  REVENUE\n113 2002-01-09  Hat - polar explorer  London         4      136\n276 2002-01-09               Hammock  London         5      275 \n\ne) What was the value of Camel saddle sales for Paris in 2002 by quarter?\n\n          REVENUE\nQuarter         \n1          13156\n2          14950\n3          24518\n4           8372\nAll        60996 \n\nf) How many Elephant polo sticks were sold in NY in each month of 2002?  \n\n      QUANTITY\nJan       0.0\nFeb       0.0\nMar       5.0\nApr       7.0\nMay       2.0\nJun       0.0\nJul       1.0\nAug       5.0\nSep       2.0\nOct       0.0\nNov       0.0\nDec       7.0\nAll      29.0 \n\n",
          "name": "stdout",
          "output_type": "stream"
        }
      ]
    }
  ]
}